{
 "cells": [
  {
   "cell_type": "code",
   "execution_count": 102,
   "id": "c5be197c",
   "metadata": {},
   "outputs": [],
   "source": [
    "import matplotlib.pyplot as plt\n",
    "import numpy as np\n",
    "\n",
    "\n",
    "\n",
    "def gaussian(info=None,x=None,train=False):\n",
    "    if info==None:\n",
    "        coeff=1\n",
    "        mean=0\n",
    "        variance=1\n",
    "    else:\n",
    "        coeff=info[\"coeff\"]\n",
    "        mean=info[\"mean\"]\n",
    "        variance=info[\"variance\"]\n",
    "#         print(coeff)\n",
    "    if train==True:\n",
    "        coeff=1\n",
    "    if x==None:\n",
    "        x=np.random.rand()\n",
    "    y=coeff*np.exp(-(x-mean)**2/(2*variance))\n",
    "    return y\n"
   ]
  },
  {
   "cell_type": "code",
   "execution_count": 106,
   "id": "9cf80890",
   "metadata": {},
   "outputs": [],
   "source": [
    "x=[]\n",
    "y=[]\n",
    "n=1000\n",
    "start=-20\n",
    "end=10\n",
    "info1={\"coeff\":0.3,\"mean\":-10,\"variance\":1}\n",
    "info2={\"coeff\":0.7,\"mean\":-5,\"variance\":2}\n",
    "info3={\"coeff\":0.9,\"mean\":-5,\"variance\":0.5}\n",
    "info4={\"coeff\":0.1,\"mean\":-2,\"variance\":8}\n",
    "# for i in range(n):\n",
    "# #     x.append(np.random.rand()*np.random.randint(-10,10))\n",
    "#     x.append(i*(end-start)/n+start)\n",
    "#     y.append(gaussian(info1,x[-1])+gaussian(info2,x[-1]))\n",
    "# plt.plot(x,y)"
   ]
  },
  {
   "cell_type": "code",
   "execution_count": 183,
   "id": "c9b64958",
   "metadata": {},
   "outputs": [],
   "source": [
    "def plotter(graphs,x,estm=None):\n",
    "    y=[]\n",
    "    for i in x:\n",
    "        sum=0\n",
    "        for num,key in enumerate(graphs.keys()):\n",
    "            if estm!=None:\n",
    "                graphs[key][\"coeff\"]=estm[num]\n",
    "            sum+=gaussian(graphs[key],i)\n",
    "        y.append(sum)\n",
    "    return y"
   ]
  },
  {
   "cell_type": "code",
   "execution_count": 244,
   "id": "d5eee869",
   "metadata": {},
   "outputs": [
    {
     "data": {
      "text/plain": [
       "[<matplotlib.lines.Line2D at 0x1b089968c88>]"
      ]
     },
     "execution_count": 244,
     "metadata": {},
     "output_type": "execute_result"
    },
    {
     "data": {
      "image/png": "[encoded data removed]",
      "text/plain": [
       "<Figure size 432x288 with 1 Axes>"
      ]
     },
     "metadata": {
      "needs_background": "light"
     },
     "output_type": "display_data"
    }
   ],
   "source": [
    "graphs={\"1\":info1,\"2\":info2,\"3\":info3,\"4\":info4}\n",
    "x=[]\n",
    "for i in range(n):\n",
    "    x.append(i*(end-start)/n+start)\n",
    "\n",
    "y=plotter(graphs,x)\n",
    "plt.plot(x,y)"
   ]
  },
  {
   "cell_type": "code",
   "execution_count": 248,
   "id": "13869e3a",
   "metadata": {},
   "outputs": [],
   "source": [
    "train_x=[]\n",
    "train_y=[]\n",
    "for i in range(4):\n",
    "    index=np.random.randint(0,len(x)-1)\n",
    "    train_x.append(x[index])\n",
    "    train_y.append(y[index])\n",
    "train_data_x=[]\n",
    "for t_x in train_x:\n",
    "    temp=[]\n",
    "    for key in graphs.keys():\n",
    "        temp.append(gaussian(graphs[key],t_x,True))\n",
    "    train_data_x.append(temp)\n",
    "train_data_y=train_y\n",
    "# plt.scatter(train_x,train_y)"
   ]
  },
  {
   "cell_type": "code",
   "execution_count": 249,
   "id": "16e98b6b",
   "metadata": {
    "slideshow": {
     "slide_type": "slide"
    }
   },
   "outputs": [
    {
     "name": "stdout",
     "output_type": "stream",
     "text": [
      "[3.00000000e-01 7.00000152e-01 1.18224532e-07 1.00000000e-01]\n"
     ]
    }
   ],
   "source": [
    "from sklearn.linear_model import LinearRegression\n",
    "train_data_x=np.array(train_data_x)\n",
    "train_data_y=np.array(train_data_y)\n",
    "reg = LinearRegression()\n",
    "reg.fit(train_data_x, train_data_y)\n",
    "# reg.score(X, y)\n",
    "print(reg.coef_)\n",
    "\n"
   ]
  },
  {
   "cell_type": "code",
   "execution_count": 250,
   "id": "22e1fdcc",
   "metadata": {
    "scrolled": true
   },
   "outputs": [
    {
     "data": {
      "text/plain": [
       "<matplotlib.collections.PathCollection at 0x1b089a48438>"
      ]
     },
     "execution_count": 250,
     "metadata": {},
     "output_type": "execute_result"
    },
    {
     "data": {
      "image/png": "[encoded data removed]",
      "text/plain": [
       "<Figure size 432x288 with 1 Axes>"
      ]
     },
     "metadata": {
      "needs_background": "light"
     },
     "output_type": "display_data"
    }
   ],
   "source": [
    "y_new=plotter(graphs,x,list(reg.coef_))\n",
    "plt.plot(x,y_new)\n",
    "plt.plot(x,y)\n",
    "plt.scatter(train_x,train_y)"
   ]
  },
  {
   "cell_type": "markdown",
   "id": "7dc01401",
   "metadata": {},
   "source": [
    "## Results\n",
    "\n",
    "* **orange** - true distribution\n",
    "* **blue** - predicted distribution"
   ]
  },
  {
   "attachments": {},
   "cell_type": "markdown",
   "id": "f202f1a1",
   "metadata": {},
   "source": [
    "\n",
    "4 distributions, with only 10 data point or buckets => **high resolution data**\n",
    "\n",
    "![image](.\\high_res.jpg)\n",
    "\n",
    "* predicted coefficients = [0.3 0.7 0.9 0.1]\n",
    "* expected coefficients = [0.3 0.7 0.9 0.1]"
   ]
  },
  {
   "cell_type": "markdown",
   "id": "18556423",
   "metadata": {},
   "source": [
    "\n",
    "4 distributions, with only 4 data point or buckets => **low resolution data**\n",
    "\n",
    "![image](.\\low_res.jpg)\n",
    "* predicted coefficients = [3.00000000e-01 7.00000152e-01 1.18224532e-07 1.00000000e-01]\n",
    "* expected coefficients = [0.3 0.7 0.9 0.1]\n"
   ]
  },
  {
   "cell_type": "code",
   "execution_count": null,
   "id": "bf3f0433",
   "metadata": {},
   "outputs": [],
   "source": []
  }
 ],
 "metadata": {
  "kernelspec": {
   "display_name": "Python 3",
   "language": "python",
   "name": "python3"
  },
  "language_info": {
   "codemirror_mode": {
    "name": "ipython",
    "version": 3
   },
   "file_extension": ".py",
   "mimetype": "text/x-python",
   "name": "python",
   "nbconvert_exporter": "python",
   "pygments_lexer": "ipython3",
   "version": "3.6.8"
  }
 },
 "nbformat": 4,
 "nbformat_minor": 5
}
